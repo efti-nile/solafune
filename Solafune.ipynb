{
  "nbformat": 4,
  "nbformat_minor": 0,
  "metadata": {
    "colab": {
      "provenance": [],
      "mount_file_id": "https://github.com/efti-nile/solafune/blob/main/Solafune.ipynb",
      "authorship_tag": "ABX9TyMO9ERMtTzMkjhFePa5fNHo",
      "include_colab_link": true
    },
    "kernelspec": {
      "name": "python3",
      "display_name": "Python 3"
    },
    "language_info": {
      "name": "python"
    }
  },
  "cells": [
    {
      "cell_type": "markdown",
      "metadata": {
        "id": "view-in-github",
        "colab_type": "text"
      },
      "source": [
        "<a href=\"https://colab.research.google.com/github/efti-nile/solafune/blob/main/Solafune.ipynb\" target=\"_parent\"><img src=\"https://colab.research.google.com/assets/colab-badge.svg\" alt=\"Open In Colab\"/></a>"
      ]
    },
    {
      "cell_type": "markdown",
      "source": [
        "# Imports"
      ],
      "metadata": {
        "id": "jBvwhC03bggB"
      }
    },
    {
      "cell_type": "code",
      "source": [
        "from pathlib import Path\n",
        "import os\n",
        "import shutil"
      ],
      "metadata": {
        "id": "RKjZVpedbn3m"
      },
      "execution_count": 1,
      "outputs": []
    },
    {
      "cell_type": "markdown",
      "source": [
        "# Load Data"
      ],
      "metadata": {
        "id": "WpNZQH8Sy7ng"
      }
    },
    {
      "cell_type": "code",
      "source": [
        "%cd /content\n",
        "\n",
        "data_root = \"/content/drive/MyDrive/Solafune\"\n",
        "\n",
        "# Test\n",
        "![ ! -f test_images.zip ] && cp $data_root/test_images.zip .\n",
        "![ ! -d test ] && unzip -q test_images.zip -d test\n",
        "\n",
        "# Train\n",
        "![ ! -f train_images.zip ] && cp $data_root/train_images.zip .\n",
        "![ ! -d train ] && unzip -q train_images.zip -d train\n",
        "! cp $data_root/train_annotation.json train\n",
        "\n",
        "# Sample\n",
        "! cp $data_root/sample.json ."
      ],
      "metadata": {
        "colab": {
          "base_uri": "https://localhost:8080/"
        },
        "id": "QIzAaBMYaRc2",
        "outputId": "cd247fd8-be2e-4ed5-8ded-1c119e3d0140"
      },
      "execution_count": 3,
      "outputs": [
        {
          "output_type": "stream",
          "name": "stdout",
          "text": [
            "/content\n"
          ]
        }
      ]
    }
  ]
}