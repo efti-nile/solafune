{
  "nbformat": 4,
  "nbformat_minor": 0,
  "metadata": {
    "colab": {
      "provenance": [],
      "mount_file_id": "https://github.com/efti-nile/solafune/blob/main/Solafune.ipynb",
      "authorship_tag": "ABX9TyP8sMYugoxoWVO+zxSiVfif",
      "include_colab_link": true
    },
    "kernelspec": {
      "name": "python3",
      "display_name": "Python 3"
    },
    "language_info": {
      "name": "python"
    }
  },
  "cells": [
    {
      "cell_type": "markdown",
      "metadata": {
        "id": "view-in-github",
        "colab_type": "text"
      },
      "source": [
        "<a href=\"https://colab.research.google.com/github/efti-nile/solafune/blob/main/Solafune.ipynb\" target=\"_parent\"><img src=\"https://colab.research.google.com/assets/colab-badge.svg\" alt=\"Open In Colab\"/></a>"
      ]
    },
    {
      "cell_type": "markdown",
      "source": [
        "# Imports"
      ],
      "metadata": {
        "id": "jBvwhC03bggB"
      }
    },
    {
      "cell_type": "code",
      "source": [
        "from pathlib import Path\n",
        "import os\n",
        "import shutil"
      ],
      "metadata": {
        "id": "RKjZVpedbn3m"
      },
      "execution_count": 9,
      "outputs": []
    },
    {
      "cell_type": "markdown",
      "source": [
        "# Load Data"
      ],
      "metadata": {
        "id": "WpNZQH8Sy7ng"
      }
    },
    {
      "cell_type": "code",
      "source": [
        "%cd /content\n",
        "\n",
        "data_root = \"/content/drive/MyDrive/Solafune\"\n",
        "\n",
        "# Test\n",
        "!if [ ! -f test_images.zip ]; then cp $data_root/test_images.zip .; fi\n",
        "!if [ ! -d test ]; then unzip -q test_images.zip -d test; fi\n",
        "\n",
        "# Train\n",
        "!if [ ! -f train_images.zip ]; then cp $data_root/train_images.zip .; fi\n",
        "!if [ ! -d train ]; then unzip -q train_images.zip -d train; fi\n",
        "!cp $data_root/train_annotation.json train\n",
        "\n",
        "# Sample\n",
        "!cp $data_root/sample.json ."
      ],
      "metadata": {
        "id": "QIzAaBMYaRc2"
      },
      "execution_count": 18,
      "outputs": []
    }
  ]
}